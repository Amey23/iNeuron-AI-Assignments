{
 "cells": [
  {
   "cell_type": "code",
   "execution_count": 1,
   "metadata": {},
   "outputs": [
    {
     "name": "stdout",
     "output_type": "stream",
     "text": [
      "* \r\n",
      "* * \r\n",
      "* * * \r\n",
      "* * * * \r\n",
      "* * * * * \r\n",
      "* * * * \r\n",
      "* * * \r\n",
      "* * \r\n",
      "* \r\n"
     ]
    }
   ],
   "source": [
    "'''\n",
    "1. Create the below pattern using nested for loop in Python.\n",
    "*\n",
    "* *\n",
    "* * *\n",
    "* * * *\n",
    "* * * * *\n",
    "* * * *\n",
    "* * *\n",
    "* *\n",
    "*\n",
    "'''\n",
    "\n",
    "# Function to demonstrate printing pattern \n",
    "def pypart(n): \n",
    "      \n",
    "    # outer loop to handle number of rows \n",
    "    # n in this case \n",
    "    for i in range(0, n):  \n",
    "        for j in range(0, i+1): \n",
    "          \n",
    "            # printing stars \n",
    "            print(\"* \",end=\"\") \n",
    "       \n",
    "        print(\"\\r\") \n",
    "        \n",
    "    for i in range(n-2,-1,-1): \n",
    "        for j in range(0, i+1): \n",
    "          \n",
    "            # printing stars \n",
    "            print(\"* \",end=\"\") \n",
    "        \n",
    "        print(\"\\r\") \n",
    "  \n",
    "# Driver Code \n",
    "n = 5\n",
    "pypart(n)"
   ]
  },
  {
   "cell_type": "code",
   "execution_count": null,
   "metadata": {},
   "outputs": [],
   "source": []
  },
  {
   "cell_type": "code",
   "execution_count": 2,
   "metadata": {},
   "outputs": [
    {
     "name": "stdout",
     "output_type": "stream",
     "text": [
      "nohtyP\n",
      "gninraeL enihcaM\n",
      "ymrA naidnI\n"
     ]
    }
   ],
   "source": [
    "'''\n",
    "2. Write a Python program to reverse a word after accepting the input from the user.\n",
    "Sample Output:\n",
    "Input word: ineuron\n",
    "Output: norueni\n",
    "'''\n",
    "\n",
    "def reverse(string):\n",
    "    rev_string = ''\n",
    "    index = len(string)\n",
    "    while index:\n",
    "        index -= 1                    \n",
    "        rev_string += string[index] \n",
    "    return rev_string\n",
    "\n",
    "print(reverse(\"Python\"))\n",
    "print(reverse(\"Machine Learning\"))\n",
    "print(reverse(\"Indian Army\"))"
   ]
  },
  {
   "cell_type": "code",
   "execution_count": null,
   "metadata": {},
   "outputs": [],
   "source": []
  }
 ],
 "metadata": {
  "kernelspec": {
   "display_name": "Python 3",
   "language": "python",
   "name": "python3"
  },
  "language_info": {
   "codemirror_mode": {
    "name": "ipython",
    "version": 3
   },
   "file_extension": ".py",
   "mimetype": "text/x-python",
   "name": "python",
   "nbconvert_exporter": "python",
   "pygments_lexer": "ipython3",
   "version": "3.7.0"
  }
 },
 "nbformat": 4,
 "nbformat_minor": 2
}
