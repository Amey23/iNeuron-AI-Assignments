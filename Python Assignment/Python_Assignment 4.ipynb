{
 "cells": [
  {
   "cell_type": "code",
   "execution_count": 8,
   "metadata": {},
   "outputs": [
    {
     "name": "stdout",
     "output_type": "stream",
     "text": [
      "Enter first side length:-4\n",
      "Enter second side length:-5\n",
      "Enter third side length:-6\n",
      "Area of the traingle is :- 9.921567416492215\n"
     ]
    }
   ],
   "source": [
    "'''\n",
    "1.1 Write a Python Program(with class concepts) to find the area of the triangle using the below\n",
    "formula.\n",
    "area = (s*(s-a)*(s-b)*(s-c)) ** 0.5\n",
    "Function to take the length of the sides of triangle from user should be defined in the parent\n",
    "class and function to calculate the area should be defined in subclass.\n",
    "'''\n",
    "\n",
    "\n",
    "# parent class \n",
    "class Area: \n",
    "  \n",
    "    # To get side lengths \n",
    "    def get(self,a,b,c):\n",
    "        self.a = input(\"Enter first side length:-\")\n",
    "        self.b = input(\"Enter second side length:-\")\n",
    "        self.c = input(\"Enter third side length:-\")\n",
    "  \n",
    "  \n",
    "# Inherited or Sub class (Note Area in bracket) \n",
    "class Traingle(Area): \n",
    "    def __init__(self,a,b,c):\n",
    "        super().get(a,b,c)\n",
    "        \n",
    "          \n",
    "    # Here we return area \n",
    "    def get_area(self):\n",
    "        a = float(self.a)\n",
    "        b = float(self.b)\n",
    "        c = float(self.c)\n",
    "        s = (a + b + c)/2\n",
    "        return (s*(s-a)*(s-b)*(s-c)) ** 0.5 \n",
    "\n",
    "  \n",
    "new = Traingle(a,b,c) # An Object of Traingle \n",
    "print(\"Area of the traingle is :-\",new.get_area())\n"
   ]
  },
  {
   "cell_type": "code",
   "execution_count": null,
   "metadata": {},
   "outputs": [],
   "source": []
  },
  {
   "cell_type": "code",
   "execution_count": 10,
   "metadata": {},
   "outputs": [
    {
     "name": "stdout",
     "output_type": "stream",
     "text": [
      "['ability', 'accept', 'according', 'account', 'across', 'action']\n"
     ]
    }
   ],
   "source": [
    "'''\n",
    "1.2 Write a function filter_long_words() that takes a list of words and an integer n and returns\n",
    "the list of words that are longer than n.\n",
    "'''\n",
    "\n",
    "result = []\n",
    "def filter_long_words(words_list,n):\n",
    "    for item in words_list:\n",
    "        if(len(item)>n):\n",
    "            result.append(item)\n",
    "    return result\n",
    "\n",
    "lst = [\"ability\",\"able\",\"about\",\"above\",\"accept\",\"according\",\"account\",\"across\",\"act\",\"action\"]\n",
    "print(filter_long_words(lst,5))\n"
   ]
  },
  {
   "cell_type": "code",
   "execution_count": null,
   "metadata": {},
   "outputs": [],
   "source": []
  },
  {
   "cell_type": "code",
   "execution_count": 11,
   "metadata": {},
   "outputs": [
    {
     "name": "stdout",
     "output_type": "stream",
     "text": [
      "[7, 4, 5, 5, 6, 9, 7, 6, 3, 6]\n"
     ]
    }
   ],
   "source": [
    "'''\n",
    "2.1 Write a Python program using function concept that maps list of words into a list of integers\n",
    "representing the lengths of the corresponding words.\n",
    "Hint: If a list [ ab,cde,erty] is passed on to the python function output should come as [2,3,4]\n",
    "Here 2,3 and 4 are the lengths of the words in the list.\n",
    "'''\n",
    "\n",
    "\n",
    "result = []\n",
    "def len_of_words(words_list):\n",
    "    for item in words_list:\n",
    "        result.append(len(item))\n",
    "    return result\n",
    "\n",
    "lst = [\"ability\",\"able\",\"about\",\"above\",\"accept\",\"according\",\"account\",\"across\",\"act\",\"action\"]\n",
    "print(len_of_words(lst))"
   ]
  },
  {
   "cell_type": "code",
   "execution_count": null,
   "metadata": {},
   "outputs": [],
   "source": []
  },
  {
   "cell_type": "code",
   "execution_count": 12,
   "metadata": {},
   "outputs": [
    {
     "name": "stdout",
     "output_type": "stream",
     "text": [
      "True\n",
      "True\n",
      "False\n",
      "False\n"
     ]
    }
   ],
   "source": [
    "'''\n",
    "2.2 Write a Python function which takes a character (i.e. a string of length 1) and returns True if\n",
    "it is a vowel, False otherwise.\n",
    "'''\n",
    "\n",
    "def check_vowels(ch):\n",
    "    vowels = ['a','e','i','o','u']\n",
    "    if ch.lower() in vowels:\n",
    "        return True\n",
    "    else:\n",
    "        return False\n",
    "    \n",
    "print(check_vowels('a'))\n",
    "print(check_vowels('A'))\n",
    "print(check_vowels('Z'))\n",
    "print(check_vowels('z'))"
   ]
  },
  {
   "cell_type": "code",
   "execution_count": null,
   "metadata": {},
   "outputs": [],
   "source": []
  }
 ],
 "metadata": {
  "kernelspec": {
   "display_name": "Python 3",
   "language": "python",
   "name": "python3"
  },
  "language_info": {
   "codemirror_mode": {
    "name": "ipython",
    "version": 3
   },
   "file_extension": ".py",
   "mimetype": "text/x-python",
   "name": "python",
   "nbconvert_exporter": "python",
   "pygments_lexer": "ipython3",
   "version": "3.7.0"
  }
 },
 "nbformat": 4,
 "nbformat_minor": 2
}
