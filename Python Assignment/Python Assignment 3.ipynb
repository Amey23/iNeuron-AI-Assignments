{
 "cells": [
  {
   "cell_type": "markdown",
   "metadata": {},
   "source": [
    "1.1 Write a Python Program to implement your own myreduce() function which works exactly\n",
    "like Python's built-in function reduce()"
   ]
  },
  {
   "cell_type": "code",
   "execution_count": 54,
   "metadata": {},
   "outputs": [
    {
     "name": "stdout",
     "output_type": "stream",
     "text": [
      "Sum of list elements :- 31\n"
     ]
    }
   ],
   "source": [
    "# Custom reduce function \n",
    "def myreduce(func, iterable, inz=None):\n",
    "    lst = iter(iterable)\n",
    "    if inz is None:\n",
    "        value = next(lst)\n",
    "    else:\n",
    "        value = inz\n",
    "     # iterate over sequence of items in sequence and apply myreduce function\n",
    "    for item in lst:\n",
    "        value = func(value, item)\n",
    "    # return final output\n",
    "    return value\n",
    "\n",
    "def sum(x,y): \n",
    "    return x + y\n",
    "\n",
    "result = str(myreduce(sum, [1,2,3,4,5,6],10))\n",
    "print(\"Sum of list elements :- \"   + result)"
   ]
  },
  {
   "cell_type": "code",
   "execution_count": null,
   "metadata": {},
   "outputs": [],
   "source": []
  },
  {
   "cell_type": "markdown",
   "metadata": {},
   "source": [
    "1.2 Write a Python program to implement your own myfilter() function which works exactly\n",
    "like Python's built-in function filter()"
   ]
  },
  {
   "cell_type": "code",
   "execution_count": 55,
   "metadata": {},
   "outputs": [
    {
     "name": "stdout",
     "output_type": "stream",
     "text": [
      "The filtered vowels are:\n",
      "a\n",
      "e\n",
      "i\n",
      "o\n"
     ]
    }
   ],
   "source": [
    "# Custom filter function \n",
    "def myfilter(func, sequence):\n",
    " # Initialize empty list\n",
    " result = []\n",
    " # iterate over sequence of items in sequence and apply myfilter function\n",
    " for item in sequence:\n",
    "  if func(item):\n",
    "   result.append(item)\n",
    " # return funal output\n",
    " return result\n",
    "\n",
    "# list of letters\n",
    "letters = ['a', 'b', 'd', 'e', 'i', 'j', 'o']\n",
    "\n",
    "# function that filters vowels\n",
    "def filterVowels(letter):\n",
    "    vowels = ['a', 'e', 'i', 'o', 'u']\n",
    "\n",
    "    if(letter in vowels):\n",
    "        return True\n",
    "    else:\n",
    "        return False\n",
    "    \n",
    "ftrdVowels = myfilter(filterVowels, letters)\n",
    "\n",
    "print('The filtered vowels are:')\n",
    "for vowel in ftrdVowels:\n",
    "    print(vowel)"
   ]
  },
  {
   "cell_type": "code",
   "execution_count": null,
   "metadata": {},
   "outputs": [],
   "source": []
  },
  {
   "cell_type": "markdown",
   "metadata": {},
   "source": [
    "2. Implement List comprehensions to produce the following lists.\n",
    "Write List comprehensions to produce the following Lists\n",
    "\n",
    "['A', 'C', 'A', 'D', 'G', 'I', ’L’, ‘ D’]\n",
    "['x', 'xx', 'xxx', 'xxxx', 'y', 'yy', 'yyy', 'yyyy', 'z', 'zz', 'zzz', 'zzzz']\n",
    "['x', 'y', 'z', 'xx', 'yy', 'zz', 'xxx', 'yyy', 'zzz', 'xxxx', 'yyyy', 'zzzz']\n",
    "[[2], [3], [4], [3], [4], [5], [4], [5], [6]] [[2, 3, 4, 5], [3, 4, 5, 6],\n",
    "[4, 5, 6, 7], [5, 6, 7, 8]]\n",
    "[(1, 1), (2, 1), (3, 1), (1, 2), (2, 2), (3, 2), (1, 3), (2, 3), (3, 3)]"
   ]
  },
  {
   "cell_type": "code",
   "execution_count": 68,
   "metadata": {},
   "outputs": [
    {
     "name": "stdout",
     "output_type": "stream",
     "text": [
      "ACADGILD => ['A', 'C', 'A', 'D', 'G', 'I', 'L', 'D']\n",
      "['x','y','z'] => ['x', 'xx', 'xxx', 'xxxx', 'y', 'yy', 'yyy', 'yyyy', 'z', 'zz', 'zzz', 'zzzz']\n",
      "['x','y','z'] => ['x', 'y', 'z', 'xx', 'yy', 'zz', 'xxx', 'yyy', 'zzz', 'xxxx', 'yyyy', 'zzzz']\n",
      "[2,3,4] =>[[1], [2], [3], [2], [3], [4], [3], [4], [5]]\n",
      "[2,3,4,5] =>[[2, 3, 4, 5], [3, 4, 5, 6], [4, 5, 6, 7], [5, 6, 7, 8]]\n",
      "[1,2,3] =>[(1, 1), (2, 1), (3, 1), (1, 2), (2, 2), (3, 2), (1, 3), (2, 3), (3, 3)]\n"
     ]
    }
   ],
   "source": [
    "word = \"ACADGILD\"\n",
    "result = [alphabet for alphabet in word ]\n",
    "print (\"ACADGILD => \",end=\"\")\n",
    "print(result)\n",
    "\n",
    "\n",
    "input = ['x','y','z']\n",
    "result = []\n",
    "for item in input:\n",
    "    for num in range(1,5):\n",
    "        result.append(item*num)\n",
    "print(\"['x','y','z'] => \",end=\"\")\n",
    "print(result)\n",
    "\n",
    "\n",
    "input = ['x','y','z']\n",
    "result = []\n",
    "for num in range(1,5):\n",
    "    for item in input:\n",
    "        result.append(item*num) \n",
    "print(\"['x','y','z'] => \",end=\"\")\n",
    "print(result)\n",
    "\n",
    "\n",
    "input = [2,3,4]\n",
    "result = []\n",
    "for num in range(0,3):\n",
    "    for item in input_list:\n",
    "        result.append([item+num])\n",
    "print(\"[2,3,4] =>\",end=\"\")\n",
    "print(result)\n",
    "\n",
    "\n",
    "input = [2,3,4,5]\n",
    "result = [[item+num for item in input] for num in range(0,4)]\n",
    "print(\"[2,3,4,5] =>\" + str(result))\n",
    "\n",
    "\n",
    "input=[1,2,3]\n",
    "result = [ (b,a) for a in input_list for b in input_list]\n",
    "print(\"[1,2,3] =>\" + str(result))"
   ]
  },
  {
   "cell_type": "code",
   "execution_count": null,
   "metadata": {},
   "outputs": [],
   "source": []
  }
 ],
 "metadata": {
  "kernelspec": {
   "display_name": "Python 3",
   "language": "python",
   "name": "python3"
  },
  "language_info": {
   "codemirror_mode": {
    "name": "ipython",
    "version": 3
   },
   "file_extension": ".py",
   "mimetype": "text/x-python",
   "name": "python",
   "nbconvert_exporter": "python",
   "pygments_lexer": "ipython3",
   "version": "3.7.0"
  }
 },
 "nbformat": 4,
 "nbformat_minor": 2
}
